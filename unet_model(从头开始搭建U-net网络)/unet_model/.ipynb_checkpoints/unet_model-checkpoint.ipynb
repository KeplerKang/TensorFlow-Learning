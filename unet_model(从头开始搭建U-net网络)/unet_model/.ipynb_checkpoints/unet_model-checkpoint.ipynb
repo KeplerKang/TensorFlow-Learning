{
 "cells": [
  {
   "cell_type": "markdown",
   "id": "97610ec7",
   "metadata": {},
   "source": [
    "# U-Net Model\n",
    "在本专题实践课程的作业中，你将使用一种称为“U-Net”的网络架构。这种网络架构的名称来源于它的U形形状，如下图所示（图片来U-net原文）：\n",
    "\n",
    "<img src=\"images/unet.png\" alt=\"U-net Image\" width=\"600\"/>\n",
    "\n",
    "U网络通常用于图像分割，是本专题实践课程作业的任务。在开始作业之前，我们先来熟悉这个架构。\n",
    "\n",
    "如图所示，该架构具有一系列由最大池操作连接的下行-卷积，然后是一系列由上采样和级联操作连接的上行-卷积。每个下行-卷积也直接连接到网络上采样部分中的级联操作。有关U-Net架构的更多详细信息，请查看原始论文[U-Net paper by Ronneberger et al. 2015](https://arxiv.org/abs/1505.04597)。\n",
    "\n",
    "这里，我们将通过Pytorch创建一个标准U-Net。"
   ]
  },
  {
   "cell_type": "code",
   "execution_count": 2,
   "id": "14d011a5",
   "metadata": {},
   "outputs": [],
   "source": [
    "# Import the elements you'll need to build your U-Net\n",
    "import torch\n",
    "from torch import nn\n",
    "import torch.nn.functional as F\n",
    "import torch.optim as optim"
   ]
  },
  {
   "cell_type": "markdown",
   "id": "526cf248",
   "metadata": {},
   "source": [
    "## 1. U-Net的\"深度\" \n",
    "\n",
    "U-Net的“深度”等于将使用的下行-卷积的数量。在上图中，深度为4，因为有4个下行-卷积沿着左侧运行，包括U型结构的底部。\n",
    "\n",
    "在本实践中，你将使用U-Net的深度为2，即网络中将有2个下行-卷积。\n"
   ]
  },
  {
   "cell_type": "markdown",
   "id": "f891987a",
   "metadata": {},
   "source": [
    "### 1.1 输入层和它的\"Depth\"\n",
    "\n",
    "在本实践中，你将进行3D图像分割，也就是说，除了“height”和“width”，你的输入层还将具有“length”。我们有意使用“长度”一词而不是“depth”来描述输入的第三个空间维度，以免将其与上述定义的网络深度混淆。\n",
    "\n",
    "输入层的形状为`(num_channels, height, width, length)`，其中`num_channels`可以想象成图像中的颜色通道，`height`、`width`和`length`是输入的大小。\n",
    "\n",
    "对于本任务，参数设置为：\n",
    "- num_channels: 4\n",
    "- height: 160\n",
    "- width: 160\n",
    "- length: 16"
   ]
  },
  {
   "cell_type": "code",
   "execution_count": 5,
   "id": "95cd37f1",
   "metadata": {},
   "outputs": [
    {
     "data": {
      "text/plain": [
       "torch.Size([4, 160, 160, 16])"
      ]
     },
     "execution_count": 5,
     "metadata": {},
     "output_type": "execute_result"
    }
   ],
   "source": [
    "# Define an input layer tensor of the shape you'll use in the assignment\n",
    "input_layer = torch.rand(4, 160, 160, 16)\n",
    "input_layer\n",
    "input_layer.shape"
   ]
  },
  {
   "cell_type": "markdown",
   "id": "00d6c208",
   "metadata": {},
   "source": [
    "注意：张量形状的第一个维度是批量大小。所以张量的维数是：（batch_size，num_channels，height，width，length）"
   ]
  },
  {
   "cell_type": "markdown",
   "id": "61189f2a",
   "metadata": {},
   "source": [
    "## 2. 编码器 (下行) \n",
    "这里，将从构建网络中的下行路径（U-Net的左侧）开始。沿着这条路径向下移动时，输入的`(height, width, length)`会变小，通道数也会增加。\n",
    "\n",
    "### 2.1 Depth 0\n",
    "\n",
    "这里的\"depth 0\"指的是U-net中第一次下行-卷积的深度。\n",
    "\n",
    "为每个深度和该深度内的每个层指定filters的数量。\n",
    "\n",
    "计算filters数量的公式为:\n",
    "$$filters_{i} = 32 \\times (2^{i})$$\n",
    "\n",
    "其中 $i$ 是当前的网络深度。\n",
    "\n",
    "所以在深度 $i=0$:\n",
    "$$filters_{0} = 32 \\times (2^{0}) = 32$$\n",
    "\n",
    "### 2.2 Layer 0\n",
    "每个深度都有两个卷积层。"
   ]
  },
  {
   "cell_type": "markdown",
   "id": "1147d423",
   "metadata": {},
   "source": [
    "运行下一个单元格以创建第一个3D卷积。"
   ]
  },
  {
   "cell_type": "code",
   "execution_count": null,
   "id": "117fae05",
   "metadata": {},
   "outputs": [],
   "source": [
    "# Define a Conv3D tensor with 32 filters\n",
    "down_depth_0_layer_0 = Conv3D(filters=32, \n",
    "                              kernel_size=(3,3,3),\n",
    "                              padding='same',\n",
    "                              strides=(1,1,1)\n",
    "                              )(input_layer)\n",
    "down_depth_0_layer_0"
   ]
  }
 ],
 "metadata": {
  "kernelspec": {
   "display_name": "Python 3 (ipykernel)",
   "language": "python",
   "name": "python3"
  },
  "language_info": {
   "codemirror_mode": {
    "name": "ipython",
    "version": 3
   },
   "file_extension": ".py",
   "mimetype": "text/x-python",
   "name": "python",
   "nbconvert_exporter": "python",
   "pygments_lexer": "ipython3",
   "version": "3.8.5"
  }
 },
 "nbformat": 4,
 "nbformat_minor": 5
}
