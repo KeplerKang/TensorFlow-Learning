{
 "cells": [
  {
   "cell_type": "markdown",
   "id": "97610ec7",
   "metadata": {},
   "source": [
    "# U-Net Model\n",
    "在本专题实践课程的作业中，你将使用一种称为“U-Net”的网络架构。这种网络架构的名称来源于它的U形形状，如下图所示（图片来U-net原文）：\n",
    "\n",
    "<img src=\"images/unet.png\" alt=\"U-net Image\" width=\"600\"/>\n",
    "\n",
    "U网络通常用于图像分割，是本专题实践课程作业的任务。在开始作业之前，我们先来熟悉这个架构。\n",
    "\n",
    "如图所示，该架构具有一系列由最大池操作连接的下行-卷积，然后是一系列由上采样和级联操作连接的上行-卷积。每个下行-卷积也直接连接到网络上采样部分中的级联操作。有关U-Net架构的更多详细信息，请查看原始论文[U-Net paper by Ronneberger et al. 2015](https://arxiv.org/abs/1505.04597)。\n",
    "\n",
    "这里，我们将通过Keras创建一个标准的U-Net网络。"
   ]
  },
  {
   "cell_type": "code",
   "execution_count": 6,
   "id": "14d011a5",
   "metadata": {},
   "outputs": [],
   "source": [
    "# Import the elements you'll need to build your U-Net\n",
    "import keras\n",
    "from keras import backend as K\n",
    "from keras.models import Model\n",
    "from keras.layers import Input, Conv3D, MaxPooling3D, UpSampling3D, Activation, BatchNormalization, PReLU, Conv3DTranspose\n",
    "from keras.optimizers import adam_v2\n",
    "from keras.layers import concatenate\n",
    "# Set the image shape to have the channels in the first dimension\n",
    "K.set_image_data_format(\"channels_first\")\n",
    "\n",
    "import tensorflow as tf\n",
    "tf.compat.v1.logging.set_verbosity(tf.compat.v1.logging.ERROR)\n",
    "\n",
    "import os\n",
    "os.environ['TF_CPP_MIN_LOG_LEVEL'] = '2'"
   ]
  },
  {
   "cell_type": "markdown",
   "id": "526cf248",
   "metadata": {},
   "source": [
    "## 1. U-Net的\"深度\" \n",
    "\n",
    "U-Net的“深度”等于将使用的下行-卷积的数量。在上图中，深度为4，因为有4个下行-卷积沿着左侧运行，包括U型结构的底部。\n",
    "\n",
    "在本实践中，你将使用U-Net的深度为2，即网络中将有2个下行-卷积。\n"
   ]
  },
  {
   "cell_type": "markdown",
   "id": "f891987a",
   "metadata": {},
   "source": [
    "### 1.1 输入层和它的\"Depth\"\n",
    "\n",
    "在本实践中，你将进行3D图像分割，也就是说，除了“height”和“width”，你的输入层还将具有“length”。我们有意使用“length”一词而不是“depth”来描述输入的第三个空间维度，以免将其与上述定义的网络深度混淆。\n",
    "\n",
    "输入层的形状为`(num_channels, height, width, length)`，其中`num_channels`可以想象成图像中的颜色通道，`height`、`width`和`length`是输入的大小。\n",
    "\n",
    "对于本任务，参数设置为：\n",
    "- num_channels: 4\n",
    "- height: 160\n",
    "- width: 160\n",
    "- length: 16"
   ]
  },
  {
   "cell_type": "code",
   "execution_count": 7,
   "id": "95cd37f1",
   "metadata": {},
   "outputs": [
    {
     "data": {
      "text/plain": [
       "<KerasTensor: shape=(None, 4, 160, 160, 16) dtype=float32 (created by layer 'input_1')>"
      ]
     },
     "execution_count": 7,
     "metadata": {},
     "output_type": "execute_result"
    }
   ],
   "source": [
    "# Define an input layer tensor of the shape you'll use in the assignment\n",
    "input_layer = Input(shape=(4, 160, 160, 16))\n",
    "input_layer"
   ]
  },
  {
   "cell_type": "markdown",
   "id": "00d6c208",
   "metadata": {},
   "source": [
    "注意：张量形状的第一个维度是批量大小。所以张量的维数是：（batch_size，num_channels，height，width，length）"
   ]
  },
  {
   "cell_type": "markdown",
   "id": "61189f2a",
   "metadata": {},
   "source": [
    "## 2. 编码器 (下行) \n",
    "这里，将从构建网络中的下行路径（U-Net的左侧）开始。沿着这条路径向下移动时，输入的`(height, width, length)`会变小，通道数也会增加。\n",
    "\n",
    "### 2.1 Depth 0\n",
    "\n",
    "这里的\"depth 0\"指的是U-net中第一次下行-卷积的深度。\n",
    "\n",
    "为每个深度和该深度内的每个层指定filters的数量。\n",
    "\n",
    "计算filters数量的公式为:\n",
    "$$filters_{i} = 32 \\times (2^{i})$$\n",
    "\n",
    "其中 $i$ 是当前网络深度。\n",
    "\n",
    "所以在深度 $i=0$:\n",
    "$$filters_{0} = 32 \\times (2^{0}) = 32$$\n",
    "\n",
    "### 2.2 Layer 0\n",
    "每个深度都有两个卷积层。"
   ]
  },
  {
   "cell_type": "markdown",
   "id": "1147d423",
   "metadata": {},
   "source": [
    "运行下一个单元格以创建第一个3D卷积。"
   ]
  },
  {
   "cell_type": "code",
   "execution_count": 8,
   "id": "117fae05",
   "metadata": {},
   "outputs": [
    {
     "data": {
      "text/plain": [
       "<KerasTensor: shape=(None, 32, 160, 160, 16) dtype=float32 (created by layer 'conv3d')>"
      ]
     },
     "execution_count": 8,
     "metadata": {},
     "output_type": "execute_result"
    }
   ],
   "source": [
    "# Define a Conv3D tensor with 32 filters\n",
    "down_depth_0_layer_0 = Conv3D(filters=32, \n",
    "                              kernel_size=(3,3,3),\n",
    "                              padding='same',\n",
    "                              strides=(1,1,1)\n",
    "                              )(input_layer)\n",
    "down_depth_0_layer_0"
   ]
  },
  {
   "cell_type": "markdown",
   "id": "70f98424",
   "metadata": {},
   "source": [
    "注意，对于32个filters，上面得到的结果是具有32个通道的张量。\n",
    "\n",
    "运行下一个单元格，将relu激活添加到第一个卷积层。"
   ]
  },
  {
   "cell_type": "code",
   "execution_count": 9,
   "id": "2d6e6e6e",
   "metadata": {},
   "outputs": [
    {
     "data": {
      "text/plain": [
       "<KerasTensor: shape=(None, 32, 160, 160, 16) dtype=float32 (created by layer 'activation')>"
      ]
     },
     "execution_count": 9,
     "metadata": {},
     "output_type": "execute_result"
    }
   ],
   "source": [
    "# Add a relu activation to layer 0 of depth 0\n",
    "down_depth_0_layer_0 = Activation('relu')(down_depth_0_layer_0)\n",
    "down_depth_0_layer_0"
   ]
  },
  {
   "cell_type": "markdown",
   "id": "b8764915",
   "metadata": {},
   "source": [
    "### 2.3 Depth 0, Layer 1\n",
    "对于depth 0的layer 1，计算filters数量的公式为：\n",
    "$$filters_{i} = 32 \\times (2^{i}) \\times 2$$\n",
    "\n",
    "其中 $i$ 是当前网络深度。 \n",
    "- 注意： 公式最后的'$\\times~2$' 不用于layer 0.\n",
    "\n",
    "\n",
    "所以layer 1中的depth $i=0$ ：\n",
    "$$filters_{0} = 32 \\times (2^{0}) \\times 2 = 64$$"
   ]
  },
  {
   "cell_type": "code",
   "execution_count": 5,
   "id": "2d8ff25c",
   "metadata": {},
   "outputs": [
    {
     "data": {
      "text/plain": [
       "<KerasTensor: shape=(None, 64, 160, 160, 16) dtype=float32 (created by layer 'activation_1')>"
      ]
     },
     "execution_count": 5,
     "metadata": {},
     "output_type": "execute_result"
    }
   ],
   "source": [
    "# Create a Conv3D layer with 64 filters and add relu activation\n",
    "down_depth_0_layer_1 = Conv3D(filters=64, \n",
    "                kernel_size=(3,3,3),\n",
    "                padding='same',\n",
    "                strides=(1,1,1)\n",
    "               )(down_depth_0_layer_0)\n",
    "down_depth_0_layer_1 = Activation('relu')(down_depth_0_layer_1)\n",
    "down_depth_0_layer_1"
   ]
  },
  {
   "cell_type": "markdown",
   "id": "17ff8d4d",
   "metadata": {},
   "source": [
    "### 2.4 Max pooling\n",
    "在U-Net架构中，在每个下行卷积之后都有一个最大池化操作（不包括U-Net底部的最后一个下行卷积）。通常，这意味着每次下行卷积之后会添加最大池化操作，直到（但不包括）`depth - 1`的下行卷积（因为从0开始计数）。\n",
    "\n",
    "对于本实践:\n",
    "- 所构建的U-Net网络的总深度是2\n",
    "- 所以U-Net底部的深度指数为: $2-1 = 1$.\n",
    "- 到目前为止，我们只定义了$depth=0$下行卷积，因此下一步要做的是添加最大池化操作\n"
   ]
  },
  {
   "cell_type": "markdown",
   "id": "a066b71f",
   "metadata": {},
   "source": [
    "运行下一个单元格，将最大池化操作添加到U-Net。"
   ]
  },
  {
   "cell_type": "code",
   "execution_count": 6,
   "id": "f4c467a3",
   "metadata": {},
   "outputs": [
    {
     "data": {
      "text/plain": [
       "<KerasTensor: shape=(None, 64, 80, 80, 8) dtype=float32 (created by layer 'max_pooling3d')>"
      ]
     },
     "execution_count": 6,
     "metadata": {},
     "output_type": "execute_result"
    }
   ],
   "source": [
    "# Define a max pooling layer\n",
    "down_depth_0_layer_pool = MaxPooling3D(pool_size=(2,2,2))(down_depth_0_layer_1)\n",
    "down_depth_0_layer_pool"
   ]
  },
  {
   "cell_type": "markdown",
   "id": "217bbcf5",
   "metadata": {},
   "source": [
    "#### 2.4.1 Depth 1, Layer 0\n",
    "\n",
    "在depth 1, layer 0, 用于计算filters数量的公式为:\n",
    "$$filters_{i} = 32 \\times (2^{i})$$\n",
    "\n",
    "其中 $i$ 是当前网络深度。\n",
    "\n",
    "所以在 depth $i=1$:\n",
    "$$filters_{1} = 32 \\times (2^{1}) = 64$$\n",
    "\n",
    "运行下一个单元格，将带有relu激活层的3D卷积层添加到网络中。"
   ]
  },
  {
   "cell_type": "code",
   "execution_count": 8,
   "id": "27999fac",
   "metadata": {},
   "outputs": [
    {
     "data": {
      "text/plain": [
       "<KerasTensor: shape=(None, 64, 80, 80, 8) dtype=float32 (created by layer 'activation_2')>"
      ]
     },
     "execution_count": 8,
     "metadata": {},
     "output_type": "execute_result"
    }
   ],
   "source": [
    "# Add a Conv3D layer to your network with relu activation\n",
    "down_depth_1_layer_0 = Conv3D(filters=64, \n",
    "                kernel_size=(3,3,3),\n",
    "                padding='same',\n",
    "                strides=(1,1,1)\n",
    "               )(down_depth_0_layer_pool)\n",
    "down_depth_1_layer_0 = Activation('relu')(down_depth_1_layer_0)\n",
    "down_depth_1_layer_0"
   ]
  },
  {
   "cell_type": "markdown",
   "id": "77a29071",
   "metadata": {},
   "source": [
    "#### 2.4.2 Depth 1,  Layer 1\n",
    "\n",
    "对于 depth 1 的 layer 1 用于计算filters数量的公式为:\n",
    "$$filters_{i} = 32 \\times (2^{i}) \\times 2$$\n",
    "\n",
    "其中 $i$ 是当前网络深度。 \n",
    "- Notice that the '$\\times 2$' at the end of this expression isn't there for layer 0.\n",
    "\n",
    "所以在 depth $i=1$:\n",
    "$$filters_{0} = 32 \\times (2^{1}) \\times 2 = 128$$\n",
    "\n",
    "运行下一个单元格，将带有128个filters的3D卷积层添加到网络中。"
   ]
  },
  {
   "cell_type": "code",
   "execution_count": 9,
   "id": "6a5d7882",
   "metadata": {},
   "outputs": [
    {
     "data": {
      "text/plain": [
       "<KerasTensor: shape=(None, 128, 80, 80, 8) dtype=float32 (created by layer 'activation_3')>"
      ]
     },
     "execution_count": 9,
     "metadata": {},
     "output_type": "execute_result"
    }
   ],
   "source": [
    "# Add another Conv3D with 128 filters to your network.\n",
    "down_depth_1_layer_1 = Conv3D(filters=128, \n",
    "                kernel_size=(3,3,3),\n",
    "                padding='same',\n",
    "                strides=(1,1,1)\n",
    "               )(down_depth_1_layer_0)\n",
    "down_depth_1_layer_1 = Activation('relu')(down_depth_1_layer_1)\n",
    "down_depth_1_layer_1"
   ]
  },
  {
   "cell_type": "markdown",
   "id": "4a0e62f3",
   "metadata": {},
   "source": [
    "#### 在 depth 1 中没有最大池化操作 (U型网络的底部)\n",
    "\n",
    "当到达U-Net网络的“底部”时，不需要在卷积之后应用最大池化操作。"
   ]
  },
  {
   "cell_type": "markdown",
   "id": "123fd9c8",
   "metadata": {},
   "source": [
    "## 3.  解码器(上行) \n",
    "\n",
    "现在，我们将研究U-Net网络的解码器路径（查看结构框图时，从右侧向上）。图像的(height, width, length)都在解码器路径中变大。\n",
    "\n",
    "### 3.1 Depth 0, Up Sampling Layer 0\n",
    "\n",
    "我们将使用(2,2,2)的池化尺寸进行上采样。\n",
    "- 这是 [tf.keras.layers.UpSampling3D] 的默认值(https://www.tensorflow.org/api_docs/python/tf/keras/layers/UpSampling3D)\n",
    "- 我们使用下采样的最后一层作为depth 1处上采样的输入。此时，它是depth 1 的 layer 1。\n",
    "\n",
    "运行下一个单元格，将上采样操作添加到网络中。\n",
    "\n",
    "注意，我们没有向该上采样层添加任何激活层。"
   ]
  },
  {
   "cell_type": "code",
   "execution_count": 10,
   "id": "8d4bb3e2",
   "metadata": {},
   "outputs": [
    {
     "data": {
      "text/plain": [
       "<KerasTensor: shape=(None, 128, 160, 160, 16) dtype=float32 (created by layer 'up_sampling3d')>"
      ]
     },
     "execution_count": 10,
     "metadata": {},
     "output_type": "execute_result"
    }
   ],
   "source": [
    "# Add an upsampling operation to your network\n",
    "up_depth_0_layer_0 = UpSampling3D(size=(2,2,2))(down_depth_1_layer_1)\n",
    "up_depth_0_layer_0"
   ]
  },
  {
   "cell_type": "markdown",
   "id": "2d78968e",
   "metadata": {},
   "source": [
    "### 3.2 连接上采样后的 Depth 0 和 下采样后的 Depth 0\n",
    "\n",
    "现在将使用两个depth均为0的层进行连接操作。\n",
    "- up_depth_0_layer_0: shape is (?, 128, 160, 160, 16)\n",
    "- depth_0_layer_1: shape is (?, 64, 160, 160, 16)\n",
    "\n",
    "- 再次检查这两层的height, width 和 length是否相同。\n",
    "- 如果它们相同，则可以沿通道轴进行连接。\n",
    "- 它们的(height, width, length) 都是 (160, 160, 16)。\n",
    "\n",
    "运行下一个单元格，检查要连接层的height, width 和 length是否相同。"
   ]
  },
  {
   "cell_type": "code",
   "execution_count": 12,
   "id": "840ade49",
   "metadata": {},
   "outputs": [
    {
     "name": "stdout",
     "output_type": "stream",
     "text": [
      "(None, 128, 160, 160, 16)\n",
      "\n",
      "(None, 64, 160, 160, 16)\n"
     ]
    }
   ],
   "source": [
    "# Print the shape of layers to concatenate\n",
    "print(up_depth_0_layer_0.shape)\n",
    "print()\n",
    "print(down_depth_0_layer_1.shape)"
   ]
  },
  {
   "cell_type": "markdown",
   "id": "a62ffdf3",
   "metadata": {},
   "source": [
    "运行下一个单元格，将连接操作添加到网络中。"
   ]
  },
  {
   "cell_type": "code",
   "execution_count": 13,
   "id": "103cc8da",
   "metadata": {},
   "outputs": [
    {
     "data": {
      "text/plain": [
       "<KerasTensor: shape=(None, 192, 160, 160, 16) dtype=float32 (created by layer 'concatenate')>"
      ]
     },
     "execution_count": 13,
     "metadata": {},
     "output_type": "execute_result"
    }
   ],
   "source": [
    "# Add a concatenation along axis 1\n",
    "up_depth_1_concat = concatenate([up_depth_0_layer_0,\n",
    "                                 down_depth_0_layer_1],\n",
    "                                axis=1)\n",
    "up_depth_1_concat"
   ]
  },
  {
   "cell_type": "markdown",
   "id": "5a1db2d8",
   "metadata": {},
   "source": [
    "注意，上采样层有128个通道，下行卷积层有64个通道，因此当连接时，结果有128+64=192个通道。"
   ]
  },
  {
   "cell_type": "markdown",
   "id": "321d9b68",
   "metadata": {},
   "source": [
    "### 3.3 上行卷积 Layer 1\n",
    "\n",
    "该层filters的数量将设置为相同 depth 0 中下行卷积 layer 1（down_depth_0_layer_1）的信道数量。\n",
    "\n",
    "运行下一个单元格，以查看 depth 0 layer 1 下行卷积的形状。"
   ]
  },
  {
   "cell_type": "code",
   "execution_count": 16,
   "id": "d0ca2059",
   "metadata": {},
   "outputs": [
    {
     "data": {
      "text/plain": [
       "<KerasTensor: shape=(None, 64, 160, 160, 16) dtype=float32 (created by layer 'activation_1')>"
      ]
     },
     "execution_count": 16,
     "metadata": {},
     "output_type": "execute_result"
    }
   ],
   "source": [
    "down_depth_0_layer_1"
   ]
  },
  {
   "cell_type": "markdown",
   "id": "1d9c0486",
   "metadata": {},
   "source": [
    "Notice the number of channels for `depth_0_layer_1` is 64"
   ]
  },
  {
   "cell_type": "code",
   "execution_count": 14,
   "id": "864b3685",
   "metadata": {},
   "outputs": [
    {
     "name": "stdout",
     "output_type": "stream",
     "text": [
      "number of filters: 64\n"
     ]
    }
   ],
   "source": [
    "print(f\"number of filters: {down_depth_0_layer_1.shape[1]}\")"
   ]
  },
  {
   "cell_type": "code",
   "execution_count": 17,
   "id": "6e775723",
   "metadata": {},
   "outputs": [
    {
     "data": {
      "text/plain": [
       "<KerasTensor: shape=(None, 64, 160, 160, 16) dtype=float32 (created by layer 'activation_5')>"
      ]
     },
     "execution_count": 17,
     "metadata": {},
     "output_type": "execute_result"
    }
   ],
   "source": [
    "# Add a Conv3D up-convolution with 64 filters to your network\n",
    "up_depth_1_layer_1 = Conv3D(filters=64, \n",
    "                            kernel_size=(3,3,3),\n",
    "                            padding='same',\n",
    "                            strides=(1,1,1)\n",
    "                           )(up_depth_1_concat)\n",
    "up_depth_1_layer_1 = Activation('relu')(up_depth_1_layer_1)\n",
    "up_depth_1_layer_1"
   ]
  },
  {
   "cell_type": "markdown",
   "id": "4a0a4654",
   "metadata": {},
   "source": [
    "### 3.4 上行卷积 Depth 0, Layer 2\n",
    "\n",
    "在上行卷积 depth 为 0 的 layer 2中，下一步将添加另一个上行卷积。后面一个上行卷积的filters数量等于下行卷积 depth 0 layer 1 中的filters数量。\n",
    "\n",
    "运行下一个单元格，以查看下行卷积 depth 0 layer 1 中的filters数量。"
   ]
  },
  {
   "cell_type": "markdown",
   "id": "f87ca9e1",
   "metadata": {},
   "source": [
    "前面我们已经知道，'down_depth_0_layer_1' 中的通道数量为64。"
   ]
  },
  {
   "cell_type": "markdown",
   "id": "c6bf7569",
   "metadata": {},
   "source": [
    "运行下一个单元格，将带有64个filters的3D上行卷积添加到网络中。"
   ]
  },
  {
   "cell_type": "code",
   "execution_count": 18,
   "id": "f75231d0",
   "metadata": {},
   "outputs": [
    {
     "data": {
      "text/plain": [
       "<KerasTensor: shape=(None, 64, 160, 160, 16) dtype=float32 (created by layer 'activation_6')>"
      ]
     },
     "execution_count": 18,
     "metadata": {},
     "output_type": "execute_result"
    }
   ],
   "source": [
    "# Add a Conv3D up-convolution with 64 filters to your network\n",
    "up_depth_1_layer_2 = Conv3D(filters=64, \n",
    "                            kernel_size=(3,3,3),\n",
    "                            padding='same',\n",
    "                            strides=(1,1,1)\n",
    "                           )(up_depth_1_layer_1)\n",
    "up_depth_1_layer_2 = Activation('relu')(up_depth_1_layer_2)\n",
    "up_depth_1_layer_2"
   ]
  },
  {
   "cell_type": "markdown",
   "id": "74356652",
   "metadata": {},
   "source": [
    "## 4. 最终卷积层\n",
    "\n",
    "对于最终卷积层，filters的数量设置为等于输入数据中的类别数量。\n",
    "\n",
    "在本实践中，数据总共有3个类别。\n",
    "\n",
    "运行下一个单元格，向网络中添加带有3个filters的最终3D卷积。"
   ]
  },
  {
   "cell_type": "code",
   "execution_count": 19,
   "id": "f8f5929e",
   "metadata": {},
   "outputs": [
    {
     "data": {
      "text/plain": [
       "<KerasTensor: shape=(None, 3, 160, 160, 16) dtype=float32 (created by layer 'conv3d_8')>"
      ]
     },
     "execution_count": 19,
     "metadata": {},
     "output_type": "execute_result"
    }
   ],
   "source": [
    "# Add a final Conv3D with 3 filters to your network.\n",
    "final_conv = Conv3D(filters=3, #3 categories \n",
    "                    kernel_size=(1,1,1),\n",
    "                    padding='valid',\n",
    "                    strides=(1,1,1)\n",
    "                    )(up_depth_1_layer_2)\n",
    "final_conv"
   ]
  },
  {
   "cell_type": "markdown",
   "id": "76d4ab1d",
   "metadata": {},
   "source": [
    "### 4.1 最终卷积层的激活层\n",
    "\n",
    "运行下一个单元格，向最终卷积层中添加sigmoid激活层积。"
   ]
  },
  {
   "cell_type": "code",
   "execution_count": 20,
   "id": "60c1a32a",
   "metadata": {},
   "outputs": [
    {
     "data": {
      "text/plain": [
       "<KerasTensor: shape=(None, 3, 160, 160, 16) dtype=float32 (created by layer 'activation_7')>"
      ]
     },
     "execution_count": 20,
     "metadata": {},
     "output_type": "execute_result"
    }
   ],
   "source": [
    "# Add a sigmoid activation to your final convolution.\n",
    "final_activation = Activation('sigmoid')(final_conv)\n",
    "final_activation"
   ]
  },
  {
   "cell_type": "markdown",
   "id": "f09c19b6",
   "metadata": {},
   "source": [
    "### 4.2 创建并编译模型\n",
    "\n",
    "在本例中，我们将损失函数和评价指标设置为Keras中的预设选项。然而，在任务中，我们也可以实施更好的损失函数和指标来评估模型性能。\n",
    "\n",
    "Run the next cell to define and compile your model based on the architecture you created above.\n",
    "运行下一个单元格，以创建和编译我们上面定义的模型。"
   ]
  },
  {
   "cell_type": "code",
   "execution_count": 21,
   "id": "8e3a909b",
   "metadata": {},
   "outputs": [],
   "source": [
    "# Define and compile your model\n",
    "model = Model(inputs=input_layer, outputs=final_activation)\n",
    "model.compile(optimizer=Adam(learning_rate=0.00001),\n",
    "              loss='categorical_crossentropy',\n",
    "              metrics=['categorical_accuracy']\n",
    "             )"
   ]
  },
  {
   "cell_type": "code",
   "execution_count": 22,
   "id": "a4945cee",
   "metadata": {},
   "outputs": [
    {
     "name": "stdout",
     "output_type": "stream",
     "text": [
      "Model: \"model\"\n",
      "__________________________________________________________________________________________________\n",
      " Layer (type)                   Output Shape         Param #     Connected to                     \n",
      "==================================================================================================\n",
      " input_1 (InputLayer)           [(None, 4, 160, 160  0           []                               \n",
      "                                , 16)]                                                            \n",
      "                                                                                                  \n",
      " conv3d (Conv3D)                (None, 32, 160, 160  3488        ['input_1[0][0]']                \n",
      "                                , 16)                                                             \n",
      "                                                                                                  \n",
      " activation (Activation)        (None, 32, 160, 160  0           ['conv3d[0][0]']                 \n",
      "                                , 16)                                                             \n",
      "                                                                                                  \n",
      " conv3d_1 (Conv3D)              (None, 64, 160, 160  55360       ['activation[0][0]']             \n",
      "                                , 16)                                                             \n",
      "                                                                                                  \n",
      " activation_1 (Activation)      (None, 64, 160, 160  0           ['conv3d_1[0][0]']               \n",
      "                                , 16)                                                             \n",
      "                                                                                                  \n",
      " max_pooling3d (MaxPooling3D)   (None, 64, 80, 80,   0           ['activation_1[0][0]']           \n",
      "                                8)                                                                \n",
      "                                                                                                  \n",
      " conv3d_3 (Conv3D)              (None, 64, 80, 80,   110656      ['max_pooling3d[0][0]']          \n",
      "                                8)                                                                \n",
      "                                                                                                  \n",
      " activation_2 (Activation)      (None, 64, 80, 80,   0           ['conv3d_3[0][0]']               \n",
      "                                8)                                                                \n",
      "                                                                                                  \n",
      " conv3d_4 (Conv3D)              (None, 128, 80, 80,  221312      ['activation_2[0][0]']           \n",
      "                                 8)                                                               \n",
      "                                                                                                  \n",
      " activation_3 (Activation)      (None, 128, 80, 80,  0           ['conv3d_4[0][0]']               \n",
      "                                 8)                                                               \n",
      "                                                                                                  \n",
      " up_sampling3d (UpSampling3D)   (None, 128, 160, 16  0           ['activation_3[0][0]']           \n",
      "                                0, 16)                                                            \n",
      "                                                                                                  \n",
      " concatenate (Concatenate)      (None, 192, 160, 16  0           ['up_sampling3d[0][0]',          \n",
      "                                0, 16)                            'activation_1[0][0]']           \n",
      "                                                                                                  \n",
      " conv3d_6 (Conv3D)              (None, 64, 160, 160  331840      ['concatenate[0][0]']            \n",
      "                                , 16)                                                             \n",
      "                                                                                                  \n",
      " activation_5 (Activation)      (None, 64, 160, 160  0           ['conv3d_6[0][0]']               \n",
      "                                , 16)                                                             \n",
      "                                                                                                  \n",
      " conv3d_7 (Conv3D)              (None, 64, 160, 160  110656      ['activation_5[0][0]']           \n",
      "                                , 16)                                                             \n",
      "                                                                                                  \n",
      " activation_6 (Activation)      (None, 64, 160, 160  0           ['conv3d_7[0][0]']               \n",
      "                                , 16)                                                             \n",
      "                                                                                                  \n",
      " conv3d_8 (Conv3D)              (None, 3, 160, 160,  195         ['activation_6[0][0]']           \n",
      "                                 16)                                                              \n",
      "                                                                                                  \n",
      " activation_7 (Activation)      (None, 3, 160, 160,  0           ['conv3d_8[0][0]']               \n",
      "                                 16)                                                              \n",
      "                                                                                                  \n",
      "==================================================================================================\n",
      "Total params: 833,507\n",
      "Trainable params: 833,507\n",
      "Non-trainable params: 0\n",
      "__________________________________________________________________________________________________\n"
     ]
    }
   ],
   "source": [
    "# Print out a summary of the model you created\n",
    "model.summary()"
   ]
  },
  {
   "cell_type": "markdown",
   "id": "8e539c9c",
   "metadata": {},
   "source": [
    "#### 祝贺你！您已经创建了自己的U-Net模型架构！\n",
    "接下来，通过将模型摘要与下面定义的示例模型进行比较，检查我们是否正确完成了所有工作。\n",
    "#### 4.2.1仔细检查我们的模型\n",
    "要仔细检查我们是否创建了正确的模型，使用我们提供的函数来创建相同的模型，并检查网络层和其尺寸是否匹配！"
   ]
  },
  {
   "cell_type": "code",
   "execution_count": 23,
   "id": "fe46e325",
   "metadata": {},
   "outputs": [],
   "source": [
    "# Import predefined utilities\n",
    "import util"
   ]
  },
  {
   "cell_type": "code",
   "execution_count": 24,
   "id": "c992c600",
   "metadata": {},
   "outputs": [],
   "source": [
    "# Create a model using a predefined function\n",
    "model_2 = util.unet_model_3d(depth=2,\n",
    "                                loss_function='categorical_crossentropy',\n",
    "                                metrics=['categorical_accuracy'])"
   ]
  },
  {
   "cell_type": "code",
   "execution_count": 33,
   "id": "8644ca18",
   "metadata": {},
   "outputs": [
    {
     "name": "stdout",
     "output_type": "stream",
     "text": [
      "Model: \"model_3\"\n",
      "__________________________________________________________________________________________________\n",
      " Layer (type)                   Output Shape         Param #     Connected to                     \n",
      "==================================================================================================\n",
      " input_3 (InputLayer)           [(None, 4, 160, 160  0           []                               \n",
      "                                , 16)]                                                            \n",
      "                                                                                                  \n",
      " conv3d_18 (Conv3D)             (None, 32, 160, 160  3488        ['input_3[0][0]']                \n",
      "                                , 16)                                                             \n",
      "                                                                                                  \n",
      " activation_17 (Activation)     (None, 32, 160, 160  0           ['conv3d_18[0][0]']              \n",
      "                                , 16)                                                             \n",
      "                                                                                                  \n",
      " conv3d_19 (Conv3D)             (None, 64, 160, 160  55360       ['activation_17[0][0]']          \n",
      "                                , 16)                                                             \n",
      "                                                                                                  \n",
      " activation_18 (Activation)     (None, 64, 160, 160  0           ['conv3d_19[0][0]']              \n",
      "                                , 16)                                                             \n",
      "                                                                                                  \n",
      " max_pooling3d_2 (MaxPooling3D)  (None, 64, 80, 80,   0          ['activation_18[0][0]']          \n",
      "                                8)                                                                \n",
      "                                                                                                  \n",
      " conv3d_20 (Conv3D)             (None, 64, 80, 80,   110656      ['max_pooling3d_2[0][0]']        \n",
      "                                8)                                                                \n",
      "                                                                                                  \n",
      " activation_19 (Activation)     (None, 64, 80, 80,   0           ['conv3d_20[0][0]']              \n",
      "                                8)                                                                \n",
      "                                                                                                  \n",
      " conv3d_21 (Conv3D)             (None, 128, 80, 80,  221312      ['activation_19[0][0]']          \n",
      "                                 8)                                                               \n",
      "                                                                                                  \n",
      " activation_20 (Activation)     (None, 128, 80, 80,  0           ['conv3d_21[0][0]']              \n",
      "                                 8)                                                               \n",
      "                                                                                                  \n",
      " up_sampling3d_2 (UpSampling3D)  (None, 128, 160, 16  0          ['activation_20[0][0]']          \n",
      "                                0, 16)                                                            \n",
      "                                                                                                  \n",
      " concatenate_2 (Concatenate)    (None, 192, 160, 16  0           ['up_sampling3d_2[0][0]',        \n",
      "                                0, 16)                            'activation_18[0][0]']          \n",
      "                                                                                                  \n",
      " conv3d_22 (Conv3D)             (None, 64, 160, 160  331840      ['concatenate_2[0][0]']          \n",
      "                                , 16)                                                             \n",
      "                                                                                                  \n",
      " activation_21 (Activation)     (None, 64, 160, 160  0           ['conv3d_22[0][0]']              \n",
      "                                , 16)                                                             \n",
      "                                                                                                  \n",
      " conv3d_23 (Conv3D)             (None, 64, 160, 160  110656      ['activation_21[0][0]']          \n",
      "                                , 16)                                                             \n",
      "                                                                                                  \n",
      " activation_22 (Activation)     (None, 64, 160, 160  0           ['conv3d_23[0][0]']              \n",
      "                                , 16)                                                             \n",
      "                                                                                                  \n",
      " conv3d_24 (Conv3D)             (None, 3, 160, 160,  195         ['activation_22[0][0]']          \n",
      "                                 16)                                                              \n",
      "                                                                                                  \n",
      " activation_23 (Activation)     (None, 3, 160, 160,  0           ['conv3d_24[0][0]']              \n",
      "                                 16)                                                              \n",
      "                                                                                                  \n",
      "==================================================================================================\n",
      "Total params: 833,507\n",
      "Trainable params: 833,507\n",
      "Non-trainable params: 0\n",
      "__________________________________________________________________________________________________\n"
     ]
    }
   ],
   "source": [
    "# Print out a summary of the model created by the predefined function\n",
    "model_2.summary()"
   ]
  },
  {
   "cell_type": "markdown",
   "id": "0a2660cf",
   "metadata": {},
   "source": [
    "#### 查看我们创建的U-Net模型摘要，并将其与上面导入的预定义函数创建的示例模型摘要进行比较。"
   ]
  },
  {
   "cell_type": "markdown",
   "id": "8d6eaf04",
   "metadata": {},
   "source": [
    "#### 这就是本此实践的全部内容，我们希望这能让你对本次课程中所介绍的网络体系结构有更多的了解！"
   ]
  }
 ],
 "metadata": {
  "kernelspec": {
   "display_name": "Python 3 (ipykernel)",
   "language": "python",
   "name": "python3"
  },
  "language_info": {
   "codemirror_mode": {
    "name": "ipython",
    "version": 3
   },
   "file_extension": ".py",
   "mimetype": "text/x-python",
   "name": "python",
   "nbconvert_exporter": "python",
   "pygments_lexer": "ipython3",
   "version": "3.8.8"
  }
 },
 "nbformat": 4,
 "nbformat_minor": 5
}
