{
 "cells": [
  {
   "cell_type": "code",
   "execution_count": 1,
   "id": "75661d1a",
   "metadata": {},
   "outputs": [
    {
     "ename": "ModuleNotFoundError",
     "evalue": "No module named 'picture'",
     "output_type": "error",
     "traceback": [
      "\u001b[1;31m---------------------------------------------------------------------------\u001b[0m",
      "\u001b[1;31mModuleNotFoundError\u001b[0m                       Traceback (most recent call last)",
      "\u001b[1;32m<ipython-input-1-21e2901ea60d>\u001b[0m in \u001b[0;36m<module>\u001b[1;34m\u001b[0m\n\u001b[0;32m      1\u001b[0m \u001b[1;32mimport\u001b[0m \u001b[0mcv2\u001b[0m\u001b[1;33m\u001b[0m\u001b[1;33m\u001b[0m\u001b[0m\n\u001b[1;32m----> 2\u001b[1;33m \u001b[1;32mimport\u001b[0m \u001b[0mpicture\u001b[0m \u001b[1;32mas\u001b[0m \u001b[0mpic\u001b[0m\u001b[1;33m\u001b[0m\u001b[1;33m\u001b[0m\u001b[0m\n\u001b[0m\u001b[0;32m      3\u001b[0m \u001b[1;33m\u001b[0m\u001b[0m\n\u001b[0;32m      4\u001b[0m \u001b[0mfont\u001b[0m \u001b[1;33m=\u001b[0m \u001b[0mcv2\u001b[0m\u001b[1;33m.\u001b[0m\u001b[0mFONT_HERSHEY_SIMPLEX\u001b[0m \u001b[1;31m#设置字体\u001b[0m\u001b[1;33m\u001b[0m\u001b[1;33m\u001b[0m\u001b[0m\n\u001b[0;32m      5\u001b[0m \u001b[0msize\u001b[0m \u001b[1;33m=\u001b[0m \u001b[1;36m0.5\u001b[0m \u001b[1;31m#设置大小\u001b[0m\u001b[1;33m\u001b[0m\u001b[1;33m\u001b[0m\u001b[0m\n",
      "\u001b[1;31mModuleNotFoundError\u001b[0m: No module named 'picture'"
     ]
    }
   ],
   "source": [
    "import cv2\n",
    "import picture as pic\n",
    " \n",
    "font = cv2.FONT_HERSHEY_SIMPLEX #设置字体\n",
    "size = 0.5 #设置大小\n",
    " \n",
    "width, height = 300, 300 #设置拍摄窗口大小\n",
    "x0,y0 = 300, 100 #设置选取位置\n",
    " \n",
    "cap = cv2.VideoCapture(0) #开摄像头\n",
    " \n",
    "if __name__ == \"__main__\":\n",
    "\twhile(1):\n",
    "\t\tret, frame = cap.read() #读取摄像头的内容\n",
    "\t\tframe = cv2.flip(frame, 2)\n",
    "\t\troi = pic.binaryMask(frame, x0, y0, width, height) #取手势所在框图并进行处理\n",
    "\t\tkey = cv2.waitKey(1) & 0xFF#按键判断并进行一定的调整\n",
    "\t\t#按'j''l''u''j'分别将选框左移，右移，上移，下移\n",
    "\t\t#按'q'键退出录像\n",
    "\t\tif key == ord('i'):\n",
    "\t\t\ty0 += 5\n",
    "\t\telif key == ord('k'):\n",
    "\t\t\ty0 -= 5\n",
    "\t\telif key == ord('l'):\n",
    "\t\t\tx0 += 5\n",
    "\t\telif key == ord('j'):\n",
    "\t\t\tx0 -= 5\n",
    "\t\tif key == ord('q'):\n",
    "\t\t\tbreak\n",
    "\t\tcv2.imshow('frame', frame) #播放摄像头的内容\n",
    "\tcap.release()\n",
    "\tcv2.destroyAllWindows() #关闭所有窗口"
   ]
  },
  {
   "cell_type": "code",
   "execution_count": null,
   "id": "c994894f",
   "metadata": {},
   "outputs": [],
   "source": []
  }
 ],
 "metadata": {
  "kernelspec": {
   "display_name": "Python 3",
   "language": "python",
   "name": "python3"
  },
  "language_info": {
   "codemirror_mode": {
    "name": "ipython",
    "version": 3
   },
   "file_extension": ".py",
   "mimetype": "text/x-python",
   "name": "python",
   "nbconvert_exporter": "python",
   "pygments_lexer": "ipython3",
   "version": "3.8.8"
  }
 },
 "nbformat": 4,
 "nbformat_minor": 5
}
