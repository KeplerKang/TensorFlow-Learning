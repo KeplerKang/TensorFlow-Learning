{
 "cells": [
  {
   "cell_type": "code",
   "execution_count": 1,
   "metadata": {},
   "outputs": [],
   "source": [
    "import tensorflow.compat.v1 as tf\n",
    "tf.compat.v1.disable_eager_execution()\n",
    "import numpy as np\n"
   ]
  },
  {
   "cell_type": "code",
   "execution_count": 4,
   "metadata": {},
   "outputs": [
    {
     "name": "stdout",
     "output_type": "stream",
     "text": [
      "0 [0.051490676, 0.0995036]\n",
      "20 [0.10174671, 0.19909447]\n",
      "40 [0.10108035, 0.19944]\n",
      "60 [0.100668184, 0.19965364]\n",
      "80 [0.10041326, 0.19978578]\n",
      "100 [0.10025558, 0.19986752]\n",
      "120 [0.10015809, 0.19991806]\n",
      "140 [0.10009777, 0.19994932]\n",
      "160 [0.10006047, 0.19996865]\n",
      "180 [0.1000374, 0.19998062]\n",
      "200 [0.10002314, 0.19998801]\n"
     ]
    }
   ],
   "source": [
    "#使用numpy生成100个随机点\n",
    "x_data = np.random.rand(100)\n",
    "y_data = x_data * 0.1 + 0.2\n",
    "\n",
    "#构造一个线性模型\n",
    "b = tf.Variable(0.)\n",
    "k = tf.Variable(0.)\n",
    "y = k*x_data + b\n",
    "\n",
    "#二次代价函数\n",
    "loss = tf.reduce_mean(tf.square(y_data-y))#reduce_mean指平均函数，属于TensorFlow的一个方法\n",
    "#定义一个梯度下降法来进行训练模型的优化器\n",
    "optimizer = tf.train.GradientDescentOptimizer(0.2)#0.2为学习率，梯度下降法函数\n",
    "#最小化代价函数\n",
    "train = optimizer.minimize(loss)#最小化方法\n",
    "\n",
    "#初始化变量\n",
    "init = tf.global_variables_initializer()\n",
    "\n",
    "with tf.Session() as sess:\n",
    "    sess.run(init)\n",
    "    for step in range(201):\n",
    "        sess.run(train)\n",
    "        if step%20 == 0:\n",
    "            print(step,sess.run([k,b]))"
   ]
  },
  {
   "cell_type": "code",
   "execution_count": null,
   "metadata": {},
   "outputs": [],
   "source": []
  }
 ],
 "metadata": {
  "kernelspec": {
   "display_name": "Python 3",
   "language": "python",
   "name": "python3"
  },
  "language_info": {
   "codemirror_mode": {
    "name": "ipython",
    "version": 3
   },
   "file_extension": ".py",
   "mimetype": "text/x-python",
   "name": "python",
   "nbconvert_exporter": "python",
   "pygments_lexer": "ipython3",
   "version": "3.8.3"
  }
 },
 "nbformat": 4,
 "nbformat_minor": 4
}
